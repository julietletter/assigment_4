{
  "nbformat": 4,
  "nbformat_minor": 0,
  "metadata": {
    "colab": {
      "name": "model-data.ipynb",
      "provenance": []
    },
    "kernelspec": {
      "name": "python3",
      "display_name": "Python 3"
    },
    "language_info": {
      "name": "python"
    }
  },
  "cells": [
    {
      "cell_type": "markdown",
      "metadata": {
        "id": "FGZY0lmrcbBP"
      },
      "source": [
        "# Build Predictive Model(s)\n",
        "In this workbook, you will read the transformed dataset you created previously and you will create estimators and pipelines to build a binary classification model to predict wether a trip has a\n",
        "tip or not.\n",
        "Instructions:\n",
        "1. Read in your transformed dataset\n",
        "2. Use encoders to perform feature engineering\n",
        "3. Split into training and testing\n",
        "4. Build LogisticRegression model(s) and train them using pipelines\n",
        "5. Evaluate the performance of the model(s) using BinaryClassificationMetrics\n",
        "\n",
        "You are welcome to add as many cells as you need below up until the next section. **You must include comments in your code.**"
      ]
    },
    {
      "cell_type": "code",
      "metadata": {
        "id": "m7COTXUpcsK1"
      },
      "source": [
        ""
      ],
      "execution_count": null,
      "outputs": []
    },
    {
      "cell_type": "markdown",
      "metadata": {
        "id": "aZFBFJYacsgk"
      },
      "source": [
        "# In the following cells, please provide the requested code and output. Do not change the order and/or structure of the cells."
      ]
    },
    {
      "cell_type": "markdown",
      "metadata": {
        "id": "UpWh3F9ac0DK"
      },
      "source": [
        "In the following cell, print the Area Under the Curve (AUC) for your binary classifier."
      ]
    },
    {
      "cell_type": "code",
      "metadata": {
        "id": "5FzE1QJycxy0"
      },
      "source": [
        ""
      ],
      "execution_count": null,
      "outputs": []
    },
    {
      "cell_type": "markdown",
      "metadata": {
        "id": "1MUcFGFWc3-k"
      },
      "source": [
        "In the following cell, provide the code that saves your model your S3 bucket."
      ]
    },
    {
      "cell_type": "code",
      "metadata": {
        "id": "koLtP72uc4gu"
      },
      "source": [
        ""
      ],
      "execution_count": null,
      "outputs": []
    }
  ]
}